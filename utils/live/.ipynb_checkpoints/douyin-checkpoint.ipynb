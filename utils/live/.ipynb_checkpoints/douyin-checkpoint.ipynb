{
 "cells": [
  {
   "cell_type": "code",
   "execution_count": null,
   "metadata": {
    "collapsed": false,
    "jupyter": {
     "outputs_hidden": false
    },
    "pycharm": {
     "is_executing": true,
     "name": "#%%\n"
    }
   },
   "outputs": [],
   "source": [
    "import requests\n",
    "\n",
    "\n",
    "headers = {\n",
    "    \"authority\": \"www.douyin.com\",\n",
    "    \"pragma\": \"no-cache\",\n",
    "    \"cache-control\": \"no-cache\",\n",
    "    \"sec-ch-ua\": \"^\\\\^\",\n",
    "    \"accept\": \"application/json, text/plain, */*\",\n",
    "    \"sec-ch-ua-mobile\": \"?0\",\n",
    "    \"user-agent\": \"Mozilla/5.0 (Windows NT 10.0; Win64; x64) AppleWebKit/537.36 (KHTML, like Gecko) Chrome/98.0.4758.139 Safari/537.36\",\n",
    "    \"sec-ch-ua-platform\": \"^\\\\^Windows^^\",\n",
    "    \"sec-fetch-site\": \"same-origin\",\n",
    "    \"sec-fetch-mode\": \"cors\",\n",
    "    \"sec-fetch-dest\": \"empty\",\n",
    "    \"referer\": \"https://www.douyin.com/follow\",\n",
    "    \"accept-language\": \"zh-CN,zh;q=0.9\"\n",
    "}\n",
    "cookies = {\n",
    "    \"ttwid\": \"1^%^7CX7cEWcU_SpoFb_0qNU0bEfR5sEGhfBrl5kWyHdBpk4M^%^7C1696666287^%^7Cea05df5d60deec986733e653c2862e91f4f991dbc52170de471e6e3d2f0a314a\",\n",
    "    \"bd_ticket_guard_client_web_domain\": \"2\",\n",
    "    \"xgplayer_user_id\": \"106617885529\",\n",
    "    \"n_mh\": \"OEC_b8locIDS9Jhl8Fog0kY8TttLgN0c6UQLibKX2f0\",\n",
    "    \"sso_uid_tt\": \"f144ffa9a432e48a8c6d67c5ffaa9367\",\n",
    "    \"sso_uid_tt_ss\": \"f144ffa9a432e48a8c6d67c5ffaa9367\",\n",
    "    \"toutiao_sso_user\": \"356d3c1f5d6cc8cc2ad754cfe2555717\",\n",
    "    \"toutiao_sso_user_ss\": \"356d3c1f5d6cc8cc2ad754cfe2555717\",\n",
    "    \"passport_assist_user\": \"CjzuGg0RGxc5TNrvTu107k5vmDaexTaTjyZL2WRAGMKbSh-7q85VjqwRC964YFC4bheqUgu9nzEHnAK0iqEaSgo8c7IeME6cDbXWdWHZPEZM_LEcziTKrx9hW2iJl1-0QuMTdQNbiMLlIPB4zXnVVb9XSgjbWd0SKA2s0Tu7ENr6wg0Yia_WVCABIgED1xOVSw^%^3D^%^3D\",\n",
    "    \"uid_tt\": \"cd8b9a2b08cd957066a2f8dbbe31312a\",\n",
    "    \"uid_tt_ss\": \"cd8b9a2b08cd957066a2f8dbbe31312a\",\n",
    "    \"sid_tt\": \"9f4488aedff63d8cf3e4e21a7bae79ab\",\n",
    "    \"sessionid\": \"9f4488aedff63d8cf3e4e21a7bae79ab\",\n",
    "    \"sessionid_ss\": \"9f4488aedff63d8cf3e4e21a7bae79ab\",\n",
    "    \"LOGIN_STATUS\": \"1\",\n",
    "    \"store-region\": \"cn-ah\",\n",
    "    \"store-region-src\": \"uid\",\n",
    "    \"d_ticket\": \"d9ede26984a4d73303fb8e3a8602a77ea34c2\",\n",
    "    \"my_rd\": \"2\",\n",
    "    \"live_use_vvc\": \"^%^22false^%^22\",\n",
    "    \"SEARCH_RESULT_LIST_TYPE\": \"^%^22single^%^22\",\n",
    "    \"publish_badge_show_info\": \"^%^220^%^2C0^%^2C0^%^2C1709035292858^%^22\",\n",
    "    \"sid_ucp_sso_v1\": \"1.0.0-KGU3MDUyYTAyOWI5N2EwYjUxYTVkM2IwMzJkYzg2NjdhYzQ4ZmI3OWYKHAiwpYigXhCxnveuBhjvMSAOMLOiwL0FOAZA9AcaAmhsIiAzNTZkM2MxZjVkNmNjOGNjMmFkNzU0Y2ZlMjU1NTcxNw\",\n",
    "    \"ssid_ucp_sso_v1\": \"1.0.0-KGU3MDUyYTAyOWI5N2EwYjUxYTVkM2IwMzJkYzg2NjdhYzQ4ZmI3OWYKHAiwpYigXhCxnveuBhjvMSAOMLOiwL0FOAZA9AcaAmhsIiAzNTZkM2MxZjVkNmNjOGNjMmFkNzU0Y2ZlMjU1NTcxNw\",\n",
    "    \"sid_guard\": \"9f4488aedff63d8cf3e4e21a7bae79ab^%^7C1709035315^%^7C5184000^%^7CSat^%^2C+27-Apr-2024+12^%^3A01^%^3A55+GMT\",\n",
    "    \"sid_ucp_v1\": \"1.0.0-KGJmOGUzNzgzZTMzZWJlOTNmNWMwYWVlMmE4NDFkNjU4ZTY2Njc5NjgKGAiwpYigXhCznveuBhjvMSAOOAZA9AdIBBoCbGYiIDlmNDQ4OGFlZGZmNjNkOGNmM2U0ZTIxYTdiYWU3OWFi\",\n",
    "    \"ssid_ucp_v1\": \"1.0.0-KGJmOGUzNzgzZTMzZWJlOTNmNWMwYWVlMmE4NDFkNjU4ZTY2Njc5NjgKGAiwpYigXhCznveuBhjvMSAOOAZA9AdIBBoCbGYiIDlmNDQ4OGFlZGZmNjNkOGNmM2U0ZTIxYTdiYWU3OWFi\",\n",
    "    \"dy_sheight\": \"864\",\n",
    "    \"dy_swidth\": \"1536\",\n",
    "    \"passport_csrf_token\": \"3a66535bc96168c3b09c204d7d6e7a0c\",\n",
    "    \"passport_csrf_token_default\": \"3a66535bc96168c3b09c204d7d6e7a0c\",\n",
    "    \"download_guide\": \"^%^223^%^2F20240227^%^2F0^%^22\",\n",
    "    \"pwa2\": \"^%^220^%^7C0^%^7C3^%^7C0^%^22\",\n",
    "    \"FRIEND_NUMBER_RED_POINT_INFO\": \"^%^22MS4wLjABAAAA4SsvACR50nyMXj5oEwqWBg_UK7ptCxwlMk4yL1bVTbM^%^2F1709395200000^%^2F1709354991004^%^2F0^%^2F0^%^22\",\n",
    "    \"_bd_ticket_crypt_cookie\": \"ec5ee29f8882d4e0a9148403bd33959b\",\n",
    "    \"FOLLOW_NUMBER_YELLOW_POINT_INFO\": \"^%^22MS4wLjABAAAA4SsvACR50nyMXj5oEwqWBg_UK7ptCxwlMk4yL1bVTbM^%^2F1709395200000^%^2F1709355042367^%^2F1709354991463^%^2F0^%^22\",\n",
    "    \"__live_version__\": \"^%^221.1.1.8422^%^22\",\n",
    "    \"strategyABtestKey\": \"^%^221709474560.18^%^22\",\n",
    "    \"csrf_session_id\": \"f635843235c2d88a728449e3e84a45e0\",\n",
    "    \"douyin.com\": \"\",\n",
    "    \"device_web_cpu_core\": \"12\",\n",
    "    \"device_web_memory_size\": \"8\",\n",
    "    \"architecture\": \"amd64\",\n",
    "    \"webcast_leading_last_show_time\": \"1709475203673\",\n",
    "    \"webcast_leading_total_show_times\": \"1\",\n",
    "    \"volume_info\": \"^%^7B^%^22isUserMute^%^22^%^3Afalse^%^2C^%^22isMute^%^22^%^3Atrue^%^2C^%^22volume^%^22^%^3A0.209^%^7D\",\n",
    "    \"webcast_local_quality\": \"origin\",\n",
    "    \"xg_device_score\": \"6.955146064883371\",\n",
    "    \"__ac_nonce\": \"065e497ca008093d71c05\",\n",
    "    \"__ac_signature\": \"_02B4Z6wo00f01dst36wAAIDBWy8l7Pp09QnbDdsAABMxwTxml8fyO6QE1zYRRStTc5ujpxlkjLTM3ahfNp2FNBzGLPVmbEyGd1mXnzSHATovM0p-hTBV7CBSpyfyTBgBBzF3hzA9QOkPZ61aa7\",\n",
    "    \"FOLLOW_LIVE_POINT_INFO\": \"^%^22MS4wLjABAAAA4SsvACR50nyMXj5oEwqWBg_UK7ptCxwlMk4yL1bVTbM^%^2F1709481600000^%^2F1709474610610^%^2F0^%^2F1709480488854^%^22\",\n",
    "    \"tt_scid\": \"EgzcePLAIwfU-xbmA75RJ3JhVpEpo2IDjoc4cbCCHIPGoL-D8Rgf3Ced-rbm8UdHac9a\",\n",
    "    \"home_can_add_dy_2_desktop\": \"^%^220^%^22\",\n",
    "    \"bd_ticket_guard_client_data\": \"eyJiZC10aWNrZXQtZ3VhcmQtdmVyc2lvbiI6MiwiYmQtdGlja2V0LWd1YXJkLWl0ZXJhdGlvbi12ZXJzaW9uIjoxLCJiZC10aWNrZXQtZ3VhcmQtcmVlLXB1YmxpYy1rZXkiOiJCQklSK010dm5QOHlEWTlVbHM4TzR2QVVFSmhUd2pRK2t4NXNNek5ad2EyM2lxMzJkK0RjVW9KN1FvYnBydnA4eHY1aGtGL1ZVRmRWQ3VMd0xORklLcDA9IiwiYmQtdGlja2V0LWd1YXJkLXdlYi12ZXJzaW9uIjoxfQ^%^3D^%^3D\",\n",
    "    \"msToken\": \"hqHuakzzEH3MjrSmZf92R292nWWi4M-F_b3FWjxErZNr5ZYq_BM4dEd96E0c-dXDpNgjizUVKWWpSCJjczXzILa77Sf54h-5pm-XL_eRVDZZOectYo6S0cq24EON\",\n",
    "    \"odin_tt\": \"a1f1713a410f2877561ebc442592fb22e5278878afb223da8d0f5366f3acc4c050c61004c82cecc4abbd7fd33b3b37d5\",\n",
    "    \"live_can_add_dy_2_desktop\": \"^%^221^%^22\",\n",
    "    \"passport_fe_beating_status\": \"false\",\n",
    "    \"IsDouyinActive\": \"true\",\n",
    "    \"stream_recommend_feed_params\": \"^%^22^%^7B^%^5C^%^22cookie_enabled^%^5C^%^22^%^3Atrue^%^2C^%^5C^%^22screen_width^%^5C^%^22^%^3A1536^%^2C^%^5C^%^22screen_height^%^5C^%^22^%^3A864^%^2C^%^5C^%^22browser_online^%^5C^%^22^%^3Atrue^%^2C^%^5C^%^22cpu_core_num^%^5C^%^22^%^3A12^%^2C^%^5C^%^22device_memory^%^5C^%^22^%^3A8^%^2C^%^5C^%^22downlink^%^5C^%^22^%^3A1.25^%^2C^%^5C^%^22effective_type^%^5C^%^22^%^3A^%^5C^%^223g^%^5C^%^22^%^2C^%^5C^%^22round_trip_time^%^5C^%^22^%^3A450^%^7D^%^22\"\n",
    "}\n",
    "url = \"https://www.douyin.com/webcast/web/feed/follow/\"\n",
    "params = {\n",
    "    \"device_platform\": \"webapp\",\n",
    "    \"aid\": \"6383\",\n",
    "    \"channel\": \"channel_pc_web\",\n",
    "    \"scene\": \"aweme_pc_follow_top\",\n",
    "    \"pc_client_type\": \"1\",\n",
    "    \"version_code\": \"170400\",\n",
    "    \"version_name\": \"17.4.0\",\n",
    "    \"cookie_enabled\": \"true\",\n",
    "    \"screen_width\": \"1536\",\n",
    "    \"screen_height\": \"864\",\n",
    "    \"browser_language\": \"zh-CN\",\n",
    "    \"browser_platform\": \"Win32\",\n",
    "    \"browser_name\": \"Chrome\",\n",
    "    \"browser_version\": \"98.0.4758.139\",\n",
    "    \"browser_online\": \"true\",\n",
    "    \"engine_name\": \"Blink\",\n",
    "    \"engine_version\": \"98.0.4758.139\",\n",
    "    \"os_name\": \"Windows\",\n",
    "    \"os_version\": \"10\",\n",
    "    \"cpu_core_num\": \"12\",\n",
    "    \"device_memory\": \"8\",\n",
    "    \"platform\": \"PC\",\n",
    "    \"downlink\": \"1.25\",\n",
    "    \"effective_type\": \"3g\",\n",
    "    \"round_trip_time\": \"450\",\n",
    "    \"webid\": \"7287126164497139200\",\n",
    "    \"msToken\": \"qj6GodBzybs7zNbpwlhdA6IZyMaNNgWi8WgaJDwGUweWTCmfl4tEvq2zgjEdJtDzw3MK4XDFYsE0iVOvQy_m6rKJPXk-yNS7uoWYXH9qLGdfN3H8MHF286gxV8f7\",\n",
    "    \"X-Bogus\": \"DFSzswVY5XiANjSZtbkASe9WX7jo\"\n",
    "}\n",
    "response = requests.get(url, headers=headers, cookies=cookies, params=params)"
   ]
  },
  {
   "cell_type": "code",
   "execution_count": null,
   "metadata": {
    "collapsed": false,
    "jupyter": {
     "outputs_hidden": false
    },
    "pycharm": {
     "is_executing": true,
     "name": "#%%\n"
    }
   },
   "outputs": [],
   "source": [
    "import json"
   ]
  },
  {
   "cell_type": "code",
   "execution_count": 5,
   "metadata": {
    "pycharm": {
     "name": "#%%\n"
    }
   },
   "outputs": [],
   "source": [
    "req = json.loads(response.text)"
   ]
  },
  {
   "cell_type": "code",
   "execution_count": 12,
   "metadata": {
    "pycharm": {
     "name": "#%%\n"
    }
   },
   "outputs": [
    {
     "name": "stdout",
     "output_type": "stream",
     "text": [
      "923195373581\n",
      "278869419046\n",
      "6728140618\n",
      "911633612214\n",
      "919847499563\n",
      "168465302284\n",
      "85503967081\n",
      "222055302358\n",
      "584913231067\n",
      "348566056133\n",
      "653499416085\n",
      "649697226579\n",
      "157244330873\n",
      "15871823834\n",
      "684888272640\n",
      "805103197470\n",
      "728545820465\n",
      "79309023832\n",
      "817223340033\n",
      "37933400480\n",
      "633849574421\n",
      "250278393003\n",
      "641934796190\n",
      "599444630012\n",
      "876191604909\n",
      "327038899024\n",
      "653086600583\n",
      "778008493990\n",
      "324712695122\n",
      "227597388619\n",
      "700147214962\n",
      "235668912677\n",
      "90829413230\n",
      "346330533123\n",
      "92505261869\n",
      "701140685959\n",
      "447428932918\n",
      "165981104432\n",
      "796940798719\n",
      "93133278128\n",
      "538856457142\n",
      "925245919644\n",
      "685598395542\n",
      "414714977933\n",
      "679399367373\n",
      "120940445004\n",
      "31155699708\n",
      "14284082222\n",
      "464472542974\n"
     ]
    }
   ],
   "source": [
    "for item in req['data']['data']:\n",
    "    rid = item['web_rid']\n",
    "    room = item['room']\n",
    "    title = room['title']\n",
    "    owner = room['owner']\n",
    "    avatar_thumb = owner['avatar_thumb']['url_list']\n",
    "    nickname = owner['nickname']\n",
    "    stream_url = room['stream_url']['flv_pull_url']['FULL_HD1']\n",
    "    print(item['web_rid'])"
   ]
  },
  {
   "cell_type": "code",
   "execution_count": null,
   "metadata": {
    "collapsed": false,
    "jupyter": {
     "outputs_hidden": false
    },
    "pycharm": {
     "name": "#%%\n"
    }
   },
   "outputs": [],
   "source": [
    "import requests\n",
    "req = requests.get('https://live.douyin.com')"
   ]
  },
  {
   "cell_type": "code",
   "execution_count": null,
   "metadata": {
    "collapsed": false,
    "jupyter": {
     "outputs_hidden": false
    },
    "pycharm": {
     "name": "#%%\n"
    }
   },
   "outputs": [],
   "source": [
    "req.status_code"
   ]
  },
  {
   "cell_type": "code",
   "execution_count": null,
   "metadata": {
    "collapsed": false,
    "jupyter": {
     "outputs_hidden": false
    },
    "pycharm": {
     "name": "#%%\n"
    }
   },
   "outputs": [],
   "source": [
    "from bs4 import BeautifulSoup"
   ]
  },
  {
   "cell_type": "code",
   "execution_count": null,
   "metadata": {
    "collapsed": false,
    "jupyter": {
     "outputs_hidden": false
    },
    "pycharm": {
     "name": "#%%\n"
    }
   },
   "outputs": [],
   "source": []
  },
  {
   "cell_type": "code",
   "execution_count": null,
   "metadata": {
    "collapsed": false,
    "jupyter": {
     "outputs_hidden": false
    },
    "pycharm": {
     "name": "#%%\n"
    }
   },
   "outputs": [],
   "source": []
  },
  {
   "cell_type": "code",
   "execution_count": null,
   "metadata": {
    "collapsed": false,
    "jupyter": {
     "outputs_hidden": false
    },
    "pycharm": {
     "name": "#%%\n"
    }
   },
   "outputs": [],
   "source": []
  },
  {
   "cell_type": "code",
   "execution_count": 5,
   "metadata": {
    "pycharm": {
     "name": "#%%\n"
    }
   },
   "outputs": [
    {
     "data": {
      "text/plain": [
       "200"
      ]
     },
     "execution_count": 5,
     "metadata": {},
     "output_type": "execute_result"
    }
   ],
   "source": [
    "req.status_code"
   ]
  },
  {
   "cell_type": "code",
   "execution_count": 6,
   "metadata": {
    "pycharm": {
     "name": "#%%\n"
    }
   },
   "outputs": [],
   "source": []
  },
  {
   "cell_type": "code",
   "execution_count": 7,
   "metadata": {
    "pycharm": {
     "name": "#%%\n"
    }
   },
   "outputs": [],
   "source": []
  },
  {
   "cell_type": "code",
   "execution_count": 11,
   "metadata": {
    "pycharm": {
     "name": "#%%\n"
    }
   },
   "outputs": [
    {
     "data": {
      "text/plain": [
       "<script nonce=\"sldwXdBZf8ZNpsv7bXXiD\">self.__pace_f.push([1,\"0:[\\\"$\\\",\\\"$L1\\\",null,{\\\"params\\\":{},\\\"children\\\":[\\\"$\\\",\\\"$L2\\\",null,{\\\"odin\\\":{\\\"user_id\\\":\\\"926262699765003\\\",\\\"user_type\\\":12,\\\"user_is_auth\\\":0,\\\"user_is_login\\\":0,\\\"user_unique_id\\\":\\\"7342402583912891913\\\"},\\\"pathname\\\":\\\"/\\\",\\\"domain\\\":\\\"$undefined\\\",\\\"serverABTestData\\\":{\\\"userPanelGuide\\\":1,\\\"showRefreshBtn\\\":0,\\\"loadMore\\\":{\\\"defaultCount\\\":4,\\\"bufferEmit\\\":0,\\\"bufferEmitCount\\\":0},\\\"seekOptimization\\\":0,\\\"hideChannelList\\\":[\\\"hot\\\",\\\"channel_300201\\\",\\\"channel_300207\\\",\\\"channel_300208\\\"],\\\"clientStreamRender\\\":0,\\\"watchLater\\\":0,\\\"loadIdlecallbackDelay\\\":3000,\\\"slideSpeed\\\":250,\\\"nextBufferConfig\\\":{},\\\"progressPreview\\\":0,\\\"preloadConfig\\\":{},\\\"blackScreenOpt\\\":1,\\\"changeCandle\\\":\\\"\\\",\\\"SR\\\":{},\\\"lvAutoBitrate\\\":2,\\\"fixStringVideoLeak\\\":{},\\\"showSelfMusicCollection\\\":0,\\\"relatedEntrance\\\":1,\\\"lvBuffer\\\":1,\\\"forceMse\\\":0,\\\"forceMsePage\\\":\\\"\\\",\\\"forceMseConfig\\\":{},\\\"payloadUrl\\\":0,\\\"rightCardOpt\\\":0,\\\"blackScreenFullscreenOpt\\\":0,\\\"followAuthorList\\\":1,\\\"useImageWallpaper\\\":0,\\\"noStartedDowngrade\\\":0,\\\"disableMixCodec\\\":0,\\\"homepageReversion\\\":3,\\\"videoPreloadConfig\\\":{},\\\"shareFlip\\\":0,\\\"recommendLoginGuideTextType\\\":0,\\\"checkTask\\\":0,\\\"BitrateSelector\\\":{\\\"paramBf\\\":0.3,\\\"paramBp\\\":0.6,\\\"paramUpper\\\":1.4,\\\"paramLower\\\":0.6,\\\"paramUpperBl\\\":0.5,\\\"paramVl1\\\":0.75,\\\"paramVl2\\\":1,\\\"paramVlUpper\\\":0.9,\\\"paramVlLower\\\":0.7,\\\"bitrateUpper\\\":2000000,\\\"bitrateLower\\\":200000,\\\"slidingWindowType\\\":\\\"by_weight\\\",\\\"slidingWindowWeight\\\":\\\"size\\\",\\\"slidingWindowWeightThreshold\\\":20000000,\\\"slidingWindowCountThreshold\\\":30,\\\"slidingWindowExtraction\\\":\\\"weighted_median\\\",\\\"bitrateRange\\\":[200000,2500000],\\\"mode\\\":\\\"buffer-info\\\",\\\"quality_filter\\\":{\\\"normal_1080_0\\\":{\\\"lower\\\":0,\\\"upper\\\":1300000}},\\\"white_list\\\":[\\\"normal_1080_0\\\",\\\"normal_720_0\\\",\\\"normal_540_0\\\"]},\\\"extraBitrateSelector\\\":[],\\\"fps\\\":0,\\\"shortLinkLogin\\\":0,\\\"checkQrCodeDelayTime\\\":0,\\\"loginBgImg\\\":\\\"https://p3-pc-weboff.byteimg.com/tos-cn-i-9r5gewecjs/login-resetpwd-bg.png\\\",\\\"ucSecondVerify\\\":\\\"v0\\\",\\\"loginAddFeedback\\\":\\\"v0\\\",\\\"isFirstTrust\\\":1,\\\"trustStatusSync\\\":0,\\\"dashConfig\\\":{\\\"open\\\":false},\\\"use265Web\\\":0,\\\"xgvideoOptions\\\":{},\\\"hasOverGear\\\":0,\\\"volumeBalance\\\":0,\\\"disableAudioContext\\\":0,\\\"disableAutoSilent\\\":0,\\\"newSilent\\\":3,\\\"blockSeek\\\":{\\\"enable\\\":false},\\\"useDataSrc\\\":0,\\\"use264Adapt\\\":0,\\\"extraClarityMap\\\":{\\\"2\\\":[],\\\"3\\\":[],\\\"4\\\":[],\\\"5\\\":[]},\\\"extraBitrateWhitelist\\\":{\\\"cpu_high\\\":[],\\\"cpu_mid\\\":[],\\\"cpu_low\\\":[]},\\\"extraQualityFilter\\\":{\\\"cpu_high\\\":{},\\\"cpu_mid\\\":{},\\\"cpu_low\\\":{}},\\\"useHeaac\\\":0,\\\"useLowBrowser\\\":0,\\\"searchSuspenseFetch\\\":0,\\\"searchResultPrefetch\\\":0,\\\"use265HardParse\\\":0,\\\"useClientH266\\\":0,\\\"raiseHevcRate\\\":0,\\\"disable_h265_1080\\\":0,\\\"disable_h265_720\\\":0,\\\"disableMP4\\\":0,\\\"edgeDownOptions\\\":{},\\\"useMusicMode\\\":{},\\\"noDisturbV2\\\":0,\\\"enableHoverToDisplay\\\":0,\\\"feedLiveFullPlayer\\\":0,\\\"fullMiniWindow\\\":0,\\\"pcClusterGrayscale\\\":0,\\\"suspendCondition\\\":{\\\"open\\\":false},\\\"liveModalFullplayer\\\":0,\\\"liveBackStream\\\":0,\\\"mixCardAutoplay\\\":0,\\\"NCEE\\\":3,\\\"douyinPCLowCpuLazy\\\":{},\\\"douyinPCMiddleCpuLazy\\\":{},\\\"interactionOpt\\\":0,\\\"pcdnForOtherPage\\\":0,\\\"syncVolume\\\":2,\\\"preloadAttachDelay\\\":3000,\\\"underInboxWord\\\":{\\\"enable\\\":false},\\\"asianGameEntryOnline\\\":0,\\\"asianGamePageOnline\\\":0,\\\"collectionRoute\\\":0,\\\"collectionLayout\\\":0,\\\"collectionReverse\\\":{},\\\"discoverDislike\\\":0,\\\"fullBlockV2\\\":{\\\"type\\\":0,\\\"effective_time\\\":0},\\\"showCapcutLink\\\":1,\\\"showClientDriverCheck\\\":0,\\\"liveOptimizeV2\\\":0,\\\"liveListType\\\":0,\\\"recommendOptimizationIslandV2\\\":0,\\\"searchPlayerUnify\\\":3,\\\"showCustomEmoji\\\":0,\\\"useNewMammonWorkletProcessor\\\":0,\\\"liveSearchBtn\\\":0,\\\"discoverSize\\\":0,\\\"relatedSearchWrapper\\\":0,\\\"searchEnableToolbarCollapse\\\":0,\\\"searchSmallToolbar\\\":1,\\\"toolbarCollapseHighSensitivity\\\":0,\\\"searchEnableGsHidden\\\":0,\\\"toolbarCollapseGuideEnable\\\":0,\\\"newLivePause\\\":2,\\\"searchBarType\\\":0,\\\"middlePageType\\\":1,\\\"liveRushTime\\\":0,\\\"MseTimerInWorker\\\":0,\\\"mseTimerInWorker\\\":0,\\\"mseTimeInSeconds\\\":0.2,\\\"mseReferrer\\\":0,\\\"checkSeek\\\":0,\\\"openSearchOtherPage\\\":0,\\\"refreshForNotUse\\\":{},\\\"friendFeedImIcon\\\":1,\\\"videoDownloadGuide\\\":0,\\\"generalSearchModalSlide\\\":3,\\\"disadvantageDownGrade\\\":{},\\\"lowDeviceUseServerFilter\\\":0,\\\"volumeSpeed\\\":4,\\\"immersiveSwitch\\\":{\\\"type\\\":0},\\\"inPictureInPicture\\\":0,\\\"pcLiveCarnival\\\":0,\\\"entrySettings\\\":2,\\\"disconnectEffectNode\\\":0,\\\"rechargeAutonext\\\":1,\\\"rechargePerf\\\":2,\\\"liveRedpacketLotteryIdle\\\":1,\\\"searchGeneralWaterfall\\\":1,\\\"searchWaterfallVerticalCrop\\\":1,\\\"searchNewListTypeButton\\\":1,\\\"fixEditListOffset\\\":0,\\\"newDefaultVolume\\\":0.5,\\\"coldStartThresholdTime\\\":0,\\\"forceColdStartVolumeRange\\\":[],\\\"playerVolumeLoudUnityExp\\\":-9,\\\"videoTagsForIncrease\\\":[2019,2019001,2019002,2019003],\\\"rsMarginTopOpt\\\":0,\\\"networkResourceOpt\\\":1,\\\"liveIsland\\\":0,\\\"positionBoxOpt\\\":0,\\\"liveGiftPackageSwitch\\\":0,\\\"checkSafe\\\":1,\\\"updateNodeSdk\\\":-1,\\\"loginPanelStyle\\\":0,\\\"loginFreeAd\\\":\\\"v0\\\",\\\"liveHomePlayerPrecreate\\\":0,\\\"userPageHideImpInfo\\\":false,\\\"liveDetailSkin\\\":0,\\\"vsCardHover\\\":0,\\\"imDropMessageWhenHidden\\\":[],\\\"liveSsrRelativeRoom\\\":1,\\\"liveH266\\\":0,\\\"liveH266Cpu\\\":9999,\\\"liveUseArea\\\":0,\\\"liveUserInfoUpdate\\\":0,\\\"liveActionBtnUpdate\\\":0,\\\"liveGiftDanmakuFilter\\\":0,\\\"bingLandingRecommend\\\":0,\\\"livePlayerRotate\\\":1,\\\"dynamicBufferByScore\\\":0,\\\"isGiftFullEffect\\\":1,\\\"enableLiveShare\\\":1,\\\"liveHead\\\":4,\\\"hasGiftActionTab\\\":1,\\\"liveHighClientH265\\\":0,\\\"liveHighWebH265\\\":0,\\\"recommendOptimizationIsland\\\":0,\\\"resourcePreloadOptimize\\\":0,\\\"layoutOptimize\\\":0,\\\"discoverDiagnosisSencondary\\\":1,\\\"danmaku\\\":{\\\"ai_cover\\\":1,\\\"ai_cover_opti_v2\\\":1,\\\"allow_show_chapter\\\":1,\\\"chapter_only_desc\\\":true,\\\"discover_diagnosis_sencondary\\\":1,\\\"douyin_danmaku\\\":1,\\\"douyin_danmaku_conf\\\":1,\\\"douyin_danmuku_conf_region\\\":1,\\\"ebable_lvideo_old_pack\\\":1,\\\"enable_activity_check_for_diff\\\":0,\\\"enable_activity_loader_new_road\\\":1,\\\"enable_activity_loader_old_road\\\":1,\\\"enable_ad\\\":true,\\\"enable_cooperation_picture\\\":1,\\\"enable_cooperation_video\\\":1,\\\"enable_douyin_sport_loader\\\":1,\\\"enable_douyin_trending_new_arch\\\":1,\\\"enable_douyin_weitoutiao\\\":1,\\\"enable_experience_card\\\":1,\\\"enable_global_lvideo\\\":1,\\\"enable_idmapping\\\":2,\\\"enable_new_dy_lvideo_source\\\":1,\\\"enable_pc_aladdin\\\":1,\\\"enable_pc_aladdin_aweme_celebrity_wiki\\\":1,\\\"enable_pc_aladdin_celebrity_aladdin_items\\\":1,\\\"enable_pc_aladdin_douyin_dcd_model\\\":1,\\\"enable_pc_aladdin_douyin_festival\\\":1,\\\"enable_pc_aladdin_douyin_hotspot_related_baike\\\":1,\\\"enable_pc_aladdin_douyin_hotspot_related_user\\\":1,\\\"enable_pc_aladdin_douyin_hotspot_related_user_with_baike\\\":1,\\\"enable_pc_aladdin_douyin_hotspot_timeline_v3\\\":1,\\\"enable_pc_aladdin_douyin_novel_tag\\\":1,\\\"enable_pc_aladdin_douyin_novel_zhannei\\\":1,\\\"enable_pc_aladdin_douyin_timeline\\\":1,\\\"enable_pc_aladdin_douyin_top_hotspot\\\":1,\\\"enable_pc_aladdin_douyin_top_movie\\\":1,\\\"enable_pc_aladdin_douyin_top_show\\\":1,\\\"enable_pc_aladdin_douyin_top_tv\\\":1,\\\"enable_pc_aladdin_douyin_xfl_house_card\\\":1,\\\"enable_pc_aladdin_dyhuodong_sport_related_users\\\":1,\\\"enable_pc_doc_type_163\\\":1,\\\"enable_pc_doc_type_309\\\":1,\\\"enable_pc_doc_type_310\\\":1,\\\"enable_pc_hotspot_subcard\\\":1,\\\"enable_pc_xigua_to_aweme\\\":1,\\\"enable_world_cup_recall\\\":1,\\\"experience_card_min_doc_limit\\\":10,\\\"home_page_cover_size\\\":1,\\\"home_page_version\\\":1,\\\"home_video_search_ideal_v3\\\":1,\\\"id_mapping_probability\\\":\\\"0.5\\\",\\\"live_search_ideal_v3\\\":1,\\\"make_collection_tab_public_ab\\\":true,\\\"music_min_doc_limit\\\":6,\\\"music_min_doc_post_limit\\\":10,\\\"music_takedown_group\\\":1,\\\"new_home_module_with_tab\\\":2,\\\"pc_awe_fav_load_limit\\\":1,\\\"pc_awe_post_load_limit\\\":1,\\\"pc_comment_load_limit\\\":1,\\\"pc_comment_rep_load_limit\\\":1,\\\"pc_feed_coldstart_cnt\\\":2,\\\"pc_pay_push\\\":1,\\\"pc_product_head_img_format\\\":\\\"webp\\\",\\\"pc_web_homepage_title_cut\\\":1,\\\"perf_ecom_sku\\\":3,\\\"related_video_jump_style_v2\\\":4,\\\"sati\\\":{\\\"search\\\":{\\\"enable_ecpm_receivable\\\":true}},\\\"search\\\":{\\\"ala_src_store_map\\\":{\\\"douyin_novel_zhannei\\\":\\\"SD1887\\\"},\\\"enable_aweme_pc_hotsoon\\\":1,\\\"enable_general_web_live_card\\\":true,\\\"enable_world_cup_recall\\\":1,\\\"enable_zero_risk_list\\\":1,\\\"need_tag_ala_src\\\":{\\\"cartoon_global\\\":[4],\\\"douyin_experience_card\\\":[4],\\\"douyin_hotsonglist\\\":[4],\\\"douyin_playlet_v1\\\":[4],\\\"douyin_sport\\\":[4],\\\"douyin_tips\\\":[4],\\\"douyin_weitoutiao\\\":[4],\\\"ky_album_info_card\\\":[4]},\\\"user_live_emb_flag\\\":0},\\\"show_chapter_source\\\":2,\\\"speed_block\\\":1,\\\"use_big_thumb_version_v2\\\":true,\\\"use_new_ecom_style\\\":0,\\\"user_search_ideal_v3\\\":1,\\\"video_search_ideal_v3\\\":1,\\\"with_hotspot\\\":1},\\\"pcAwePostLoadLimit\\\":1,\\\"pcAweFavLoadLimit\\\":1,\\\"pcCommentLoadLimit\\\":1,\\\"pcCommentRepLoadLimit\\\":1,\\\"fuzzyAuthor\\\":{\\\"ai_cover\\\":1,\\\"ai_cover_opti_v2\\\":1,\\\"allow_show_chapter\\\":1,\\\"chapter_only_desc\\\":true,\\\"discover_diagnosis_sencondary\\\":1,\\\"douyin_danmaku\\\":1,\\\"douyin_danmaku_conf\\\":1,\\\"douyin_danmuku_conf_region\\\":1,\\\"ebable_lvideo_old_pack\\\":1,\\\"enable_activity_check_for_diff\\\":0,\\\"enable_activity_loader_new_road\\\":1,\\\"enable_activity_loader_old_road\\\":1,\\\"enable_ad\\\":true,\\\"enable_cooperation_picture\\\":1,\\\"enable_cooperation_video\\\":1,\\\"enable_douyin_sport_loader\\\":1,\\\"enable_douyin_trending_new_arch\\\":1,\\\"enable_douyin_weitoutiao\\\":1,\\\"enable_experience_card\\\":1,\\\"enable_global_lvideo\\\":1,\\\"enable_idmapping\\\":2,\\\"enable_new_dy_lvideo_source\\\":1,\\\"enable_pc_aladdin\\\":1,\\\"enable_pc_aladdin_aweme_celebrity_wiki\\\":1,\\\"enable_pc_aladdin_celebrity_aladdin_items\\\":1,\\\"enable_pc_aladdin_douyin_dcd_model\\\":1,\\\"enable_pc_aladdin_douyin_festival\\\":1,\\\"enable_pc_aladdin_douyin_hotspot_related_baike\\\":1,\\\"enable_pc_aladdin_douyin_hotspot_related_user\\\":1,\\\"enable_pc_aladdin_douyin_hotspot_related_user_with_baike\\\":1,\\\"enable_pc_aladdin_douyin_hotspot_timeline_v3\\\":1,\\\"enable_pc_aladdin_douyin_novel_tag\\\":1,\\\"enable_pc_aladdin_douyin_novel_zhannei\\\":1,\\\"enable_pc_aladdin_douyin_timeline\\\":1,\\\"enable_pc_aladdin_douyin_top_hotspot\\\":1,\\\"enable_pc_aladdin_douyin_top_movie\\\":1,\\\"enable_pc_aladdin_douyin_top_show\\\":1,\\\"enable_pc_aladdin_douyin_top_tv\\\":1,\\\"enable_pc_aladdin_douyin_xfl_house_card\\\":1,\\\"enable_pc_aladdin_dyhuodong_sport_related_users\\\":1,\\\"enable_pc_doc_type_163\\\":1,\\\"enable_pc_doc_type_309\\\":1,\\\"enable_pc_doc_type_310\\\":1,\\\"enable_pc_hotspot_subcard\\\":1,\\\"enable_pc_xigua_to_aweme\\\":1,\\\"enable_world_cup_recall\\\":1,\\\"experience_card_min_doc_limit\\\":10,\\\"home_page_cover_size\\\":1,\\\"home_page_version\\\":1,\\\"home_video_search_ideal_v3\\\":1,\\\"id_mapping_probability\\\":\\\"0.5\\\",\\\"live_search_ideal_v3\\\":1,\\\"make_collection_tab_public_ab\\\":true,\\\"music_min_doc_limit\\\":6,\\\"music_min_doc_post_limit\\\":10,\\\"music_takedown_group\\\":1,\\\"new_home_module_with_tab\\\":2,\\\"pc_awe_fav_load_limit\\\":1,\\\"pc_awe_post_load_limit\\\":1,\\\"pc_comment_load_limit\\\":1,\\\"pc_comment_rep_load_limit\\\":1,\\\"pc_feed_coldstart_cnt\\\":2,\\\"pc_pay_push\\\":1,\\\"pc_product_head_img_format\\\":\\\"webp\\\",\\\"pc_web_homepage_title_cut\\\":1,\\\"perf_ecom_sku\\\":3,\\\"related_video_jump_style_v2\\\":4,\\\"sati\\\":{\\\"search\\\":{\\\"enable_ecpm_receivable\\\":true}},\\\"search\\\":{\\\"ala_src_store_map\\\":{\\\"douyin_novel_zhannei\\\":\\\"SD1887\\\"},\\\"enable_aweme_pc_hotsoon\\\":1,\\\"enable_general_web_live_card\\\":true,\\\"enable_world_cup_recall\\\":1,\\\"enable_zero_risk_list\\\":1,\\\"need_tag_ala_src\\\":{\\\"cartoon_global\\\":[4],\\\"douyin_experience_card\\\":[4],\\\"douyin_hotsonglist\\\":[4],\\\"douyin_playlet_v1\\\":[4],\\\"douyin_sport\\\":[4],\\\"douyin_tips\\\":[4],\\\"douyin_weitoutiao\\\":[4],\\\"ky_album_info_card\\\":[4]},\\\"user_live_emb_flag\\\":0},\\\"show_chapter_source\\\":2,\\\"speed_block\\\":1,\\\"use_big_thumb_version_v2\\\":true,\\\"use_new_ecom_style\\\":0,\\\"user_search_ideal_v3\\\":1,\\\"video_search_ideal_v3\\\":1,\\\"with_hotspot\\\":1},\\\"forceLogin\\\":\\\"v0\\\",\\\"fullBlock\\\":{\\\"ai_cover\\\":1,\\\"ai_cover_opti_v2\\\":1,\\\"allow_show_chapter\\\":1,\\\"chapter_only_desc\\\":true,\\\"discover_diagnosis_sencondary\\\":1,\\\"douyin_danmaku\\\":1,\\\"douyin_danmaku_conf\\\":1,\\\"douyin_danmuku_conf_region\\\":1,\\\"ebable_lvideo_old_pack\\\":1,\\\"enable_activity_check_for_diff\\\":0,\\\"enable_activity_loader_new_road\\\":1,\\\"enable_activity_loader_old_road\\\":1,\\\"enable_ad\\\":true,\\\"enable_cooperation_picture\\\":1,\\\"enable_cooperation_video\\\":1,\\\"enable_douyin_sport_loader\\\":1,\\\"enable_douyin_trending_new_arch\\\":1,\\\"enable_douyin_weitoutiao\\\":1,\\\"enable_experience_card\\\":1,\\\"enable_global_lvideo\\\":1,\\\"enable_idmapping\\\":2,\\\"enable_new_dy_lvideo_source\\\":1,\\\"enable_pc_aladdin\\\":1,\\\"enable_pc_aladdin_aweme_celebrity_wiki\\\":1,\\\"enable_pc_aladdin_celebrity_aladdin_items\\\":1,\\\"enable_pc_aladdin_douyin_dcd_model\\\":1,\\\"enable_pc_aladdin_douyin_festival\\\":1,\\\"enable_pc_aladdin_douyin_hotspot_related_baike\\\":1,\\\"enable_pc_aladdin_douyin_hotspot_related_user\\\":1,\\\"enable_pc_aladdin_douyin_hotspot_related_user_with_baike\\\":1,\\\"enable_pc_aladdin_douyin_hotspot_timeline_v3\\\":1,\\\"enable_pc_aladdin_douyin_novel_tag\\\":1,\\\"enable_pc_aladdin_douyin_novel_zhannei\\\":1,\\\"enable_pc_aladdin_douyin_timeline\\\":1,\\\"enable_pc_aladdin_douyin_top_hotspot\\\":1,\\\"enable_pc_aladdin_douyin_top_movie\\\":1,\\\"enable_pc_aladdin_douyin_top_show\\\":1,\\\"enable_pc_aladdin_douyin_top_tv\\\":1,\\\"enable_pc_aladdin_douyin_xfl_house_card\\\":1,\\\"enable_pc_aladdin_dyhuodong_sport_related_users\\\":1,\\\"enable_pc_doc_type_163\\\":1,\\\"enable_pc_doc_type_309\\\":1,\\\"enable_pc_doc_type_310\\\":1,\\\"enable_pc_hotspot_subcard\\\":1,\\\"enable_pc_xigua_to_aweme\\\":1,\\\"enable_world_cup_recall\\\":1,\\\"experience_card_min_doc_limit\\\":10,\\\"home_page_cover_size\\\":1,\\\"home_page_version\\\":1,\\\"home_video_search_ideal_v3\\\":1,\\\"id_mapping_probability\\\":\\\"0.5\\\",\\\"live_search_ideal_v3\\\":1,\\\"make_collection_tab_public_ab\\\":true,\\\"music_min_doc_limit\\\":6,\\\"music_min_doc_post_limit\\\":10,\\\"music_takedown_group\\\":1,\\\"new_home_module_with_tab\\\":2,\\\"pc_awe_fav_load_limit\\\":1,\\\"pc_awe_post_load_limit\\\":1,\\\"pc_comment_load_limit\\\":1,\\\"pc_comment_rep_load_limit\\\":1,\\\"pc_feed_coldstart_cnt\\\":2,\\\"pc_pay_push\\\":1,\\\"pc_product_head_img_format\\\":\\\"webp\\\",\\\"pc_web_homepage_title_cut\\\":1,\\\"perf_ecom_sku\\\":3,\\\"related_video_jump_style_v2\\\":4,\\\"sati\\\":{\\\"search\\\":{\\\"enable_ecpm_receivable\\\":true}},\\\"search\\\":{\\\"ala_src_store_map\\\":{\\\"douyin_novel_zhannei\\\":\\\"SD1887\\\"},\\\"enable_aweme_pc_hotsoon\\\":1,\\\"enable_general_web_live_card\\\":true,\\\"enable_world_cup_recall\\\":1,\\\"enable_zero_risk_list\\\":1,\\\"need_tag_ala_src\\\":{\\\"cartoon_global\\\":[4],\\\"douyin_experience_card\\\":[4],\\\"douyin_hotsonglist\\\":[4],\\\"douyin_playlet_v1\\\":[4],\\\"douyin_sport\\\":[4],\\\"douyin_tips\\\":[4],\\\"douyin_weitoutiao\\\":[4],\\\"ky_album_info_card\\\":[4]},\\\"user_live_emb_flag\\\":0},\\\"show_chapter_source\\\":2,\\\"speed_block\\\":1,\\\"use_big_thumb_version_v2\\\":true,\\\"use_new_ecom_style\\\":0,\\\"user_search_ideal_v3\\\":1,\\\"video_search_ideal_v3\\\":1,\\\"with_hotspot\\\":1},\\\"speedBlock\\\":{\\\"ai_cover\\\":1,\\\"ai_cover_opti_v2\\\":1,\\\"allow_show_chapter\\\":1,\\\"chapter_only_desc\\\":true,\\\"discover_diagnosis_sencondary\\\":1,\\\"douyin_danmaku\\\":1,\\\"douyin_danmaku_conf\\\":1,\\\"douyin_danmuku_conf_region\\\":1,\\\"ebable_lvideo_old_pack\\\":1,\\\"enable_activity_check_for_diff\\\":0,\\\"enable_activity_loader_new_road\\\":1,\\\"enable_activity_loader_old_road\\\":1,\\\"enable_ad\\\":true,\\\"enable_cooperation_picture\\\":1,\\\"enable_cooperation_video\\\":1,\\\"enable_douyin_sport_loader\\\":1,\\\"enable_douyin_trending_new_arch\\\":1,\\\"enable_douyin_weitoutiao\\\":1,\\\"enable_experience_card\\\":1,\\\"enable_global_lvideo\\\":1,\\\"enable_idmapping\\\":2,\\\"enable_new_dy_lvideo_source\\\":1,\\\"enable_pc_aladdin\\\":1,\\\"enable_pc_aladdin_aweme_celebrity_wiki\\\":1,\\\"enable_pc_aladdin_celebrity_aladdin_items\\\":1,\\\"enable_pc_aladdin_douyin_dcd_model\\\":1,\\\"enable_pc_aladdin_douyin_festival\\\":1,\\\"enable_pc_aladdin_douyin_hotspot_related_baike\\\":1,\\\"enable_pc_aladdin_douyin_hotspot_related_user\\\":1,\\\"enable_pc_aladdin_douyin_hotspot_related_user_with_baike\\\":1,\\\"enable_pc_aladdin_douyin_hotspot_timeline_v3\\\":1,\\\"enable_pc_aladdin_douyin_novel_tag\\\":1,\\\"enable_pc_aladdin_douyin_novel_zhannei\\\":1,\\\"enable_pc_aladdin_douyin_timeline\\\":1,\\\"enable_pc_aladdin_douyin_top_hotspot\\\":1,\\\"enable_pc_aladdin_douyin_top_movie\\\":1,\\\"enable_pc_aladdin_douyin_top_show\\\":1,\\\"enable_pc_aladdin_douyin_top_tv\\\":1,\\\"enable_pc_aladdin_douyin_xfl_house_card\\\":1,\\\"enable_pc_aladdin_dyhuodong_sport_related_users\\\":1,\\\"enable_pc_doc_type_163\\\":1,\\\"enable_pc_doc_type_309\\\":1,\\\"enable_pc_doc_type_310\\\":1,\\\"enable_pc_hotspot_subcard\\\":1,\\\"enable_pc_xigua_to_aweme\\\":1,\\\"enable_world_cup_recall\\\":1,\\\"experience_card_min_doc_limit\\\":10,\\\"home_page_cover_size\\\":1,\\\"home_page_version\\\":1,\\\"home_video_search_ideal_v3\\\":1,\\\"id_mapping_probability\\\":\\\"0.5\\\",\\\"live_search_ideal_v3\\\":1,\\\"make_collection_tab_public_ab\\\":true,\\\"music_min_doc_limit\\\":6,\\\"music_min_doc_post_limit\\\":10,\\\"music_takedown_group\\\":1,\\\"new_home_module_with_tab\\\":2,\\\"pc_awe_fav_load_limit\\\":1,\\\"pc_awe_post_load_limit\\\":1,\\\"pc_comment_load_limit\\\":1,\\\"pc_comment_rep_load_limit\\\":1,\\\"pc_feed_coldstart_cnt\\\":2,\\\"pc_pay_push\\\":1,\\\"pc_product_head_img_format\\\":\\\"webp\\\",\\\"pc_web_homepage_title_cut\\\":1,\\\"perf_ecom_sku\\\":3,\\\"related_video_jump_style_v2\\\":4,\\\"sati\\\":{\\\"search\\\":{\\\"enable_ecpm_receivable\\\":true}},\\\"search\\\":{\\\"ala_src_store_map\\\":{\\\"douyin_novel_zhannei\\\":\\\"SD1887\\\"},\\\"enable_aweme_pc_hotsoon\\\":1,\\\"enable_general_web_live_card\\\":true,\\\"enable_world_cup_recall\\\":1,\\\"enable_zero_risk_list\\\":1,\\\"need_tag_ala_src\\\":{\\\"cartoon_global\\\":[4],\\\"douyin_experience_card\\\":[4],\\\"douyin_hotsonglist\\\":[4],\\\"douyin_playlet_v1\\\":[4],\\\"douyin_sport\\\":[4],\\\"douyin_tips\\\":[4],\\\"douyin_weitoutiao\\\":[4],\\\"ky_album_info_card\\\":[4]},\\\"user_live_emb_flag\\\":0},\\\"show_chapter_source\\\":2,\\\"speed_block\\\":1,\\\"use_big_thumb_version_v2\\\":true,\\\"use_new_ecom_style\\\":0,\\\"user_search_ideal_v3\\\":1,\\\"video_search_ideal_v3\\\":1,\\\"with_hotspot\\\":1},\\\"commentBlock\\\":{\\\"type\\\":0,\\\"effective_time\\\":0,\\\"comment_total\\\":0,\\\"is_force\\\":false,\\\"is_btn_style\\\":false},\\\"authorBlock\\\":{\\\"type\\\":0,\\\"effective_time\\\":0},\\\"newSkylight\\\":0,\\\"permanentDislikeBtn\\\":0,\\\"swcache\\\":0,\\\"videoPreloadConfigServer\\\":{},\\\"pcdnConfigServer\\\":{},\\\"preloadCountServer\\\":{},\\\"disableMP4ClientServer\\\":{},\\\"pcdnForOtherPageServer\\\":0,\\\"allowMP4Server\\\":0,\\\"pcdnApplySideServer\\\":\\\"\\\",\\\"preloadCountApplySideServer\\\":\\\"\\\",\\\"videoPreloadConfigApplySideServer\\\":\\\"\\\",\\\"payloadUrlServer\\\":0,\\\"ecomHeadImgFormat\\\":\\\"webp\\\",\\\"forceMseServer\\\":0,\\\"forceMseConfigServer\\\":{},\\\"forceMsePageServer\\\":\\\"\\\",\\\"searchUseCtr\\\":1,\\\"discoverTabHidden\\\":0,\\\"live_gift_danmaku_filter\\\":0,\\\"pcPayPush\\\":1,\\\"perfEcomSku\\\":3,\\\"useNewEcomStyle\\\":0,\\\"douyinWebPush\\\":0,\\\"douyinClientLivePush\\\":0,\\\"historyAdditions\\\":0,\\\"feedBarAdditions\\\":1,\\\"underInboxOpt\\\":1,\\\"adjustSuggest\\\":0,\\\"searchWaterfallOpt\\\":0},\\\"serverTccData\\\":{\\\"main\\\":{\\\"entrance\\\":{\\\"369324308707\\\":{\\\"desc\\\":\\\"王濛\\\",\\\"enter_text\\\":\\\"点击进入专题频道\\\",\\\"url\\\":\\\"https://www.douyin.com/bingxue2022?web_rid=369324308707\\\",\\\"scopes\\\":[],\\\"html_target\\\":\\\"_self\\\"}},\\\"linkmic_heart_config\\\":{\\\"disabled\\\":true,\\\"whitleList\\\":[\\\"608192707742\\\",\\\"534000058337\\\"]},\\\"live_quality_count_tactics\\\":{\\\"singleControlTime\\\":86400000,\\\"singleControlMaxShowTime\\\":15552000000},\\\"choose_peoples_info\\\":{\\\"choose_people_show\\\":true},\\\"pageGrayscale\\\":{\\\"mode\\\":\\\"\\\",\\\"blockList\\\":{\\\"all\\\":[],\\\"part\\\":[\\\"/fifaworldcup\\\"]}},\\\"pause_pop_config\\\":{\\\"countDownSeconds\\\":120,\\\"gapTimer\\\":3600000,\\\"popFrontTimerList\\\":{\\\"1\\\":{\\\"front\\\":900000,\\\"back\\\":300000},\\\"2\\\":{\\\"front\\\":1800000,\\\"back\\\":1200000},\\\"3\\\":{\\\"back\\\":300000},\\\"4\\\":{\\\"back\\\":1200000}}},\\\"gift_config\\\":{\\\"gift_status\\\":true,\\\"recharge_status\\\":true,\\\"hover_gift_white_list\\\":[4353,3729,6024,6008,511,789],\\\"diy_plugin_id_white_list\\\":[101],\\\"gift_buff_id_white_list\\\":[5955,5606,5956,6225,6095],\\\"diy_card_name_white_list\\\":[\\\"baoshijiegoldcard\\\"]},\\\"banner\\\":{\\\"long_touch\\\":{\\\"long_touch_show\\\":true,\\\"use_page_url_banner_id\\\":[126653,123736]}},\\\"pk_config\\\":{\\\"pk_status\\\":true},\\\"audience_config\\\":{\\\"audience_status\\\":true},\\\"fans_club_config\\\":{\\\"fans_status\\\":true},\\\"back_switch_stream_config\\\":{\\\"waitTimer\\\":10000},\\\"live_banner_config\\\":{\\\"bannerList\\\":[],\\\"bannerVersion\\\":\\\"0.0.7\\\",\\\"showCloseBtn\\\":false},\\\"activity_indicator\\\":{\\\"enable\\\":true,\\\"whiteList\\\":[2501237],\\\"ppe_douyin_pc_frontend\\\":{\\\"enable\\\":true,\\\"whiteList\\\":[2501237],\\\"channel\\\":\\\"test\\\"},\\\"ppe_24v_3_38\\\":{\\\"enable\\\":true,\\\"whiteList\\\":[163139,163138,163140,163141,2501237],\\\"channel\\\":\\\"test\\\"}},\\\"liveShareWhiteList\\\":{\\\"whiteList\\\":[4275317714719022],\\\"ppe_live_share\\\":{\\\"whiteList\\\":[2709662868182483]},\\\"ppe_douyin_pc_frontend\\\":{\\\"whiteList\\\":[2709662868182483]}}},\\\"web\\\":{\\\"specTheme\\\":{\\\"themeSwitch\\\":true,\\\"bgDark\\\":\\\"https://lf3-static.bytednsdoc.com/obj/eden-cn/medeh7bmupenuhd/dkw.png\\\",\\\"bgLight\\\":\\\"https://lf3-static.bytednsdoc.com/obj/eden-cn/medeh7bmupenuhd/ltw.png\\\",\\\"bgDarkThin\\\":\\\"https://lf3-static.bytednsdoc.com/obj/eden-cn/medeh7bmupenuhd/dkt.png\\\",\\\"bgLightThin\\\":\\\"https://lf3-static.bytednsdoc.com/obj/eden-cn/medeh7bmupenuhd/ltt.png\\\",\\\"leftBottom\\\":true},\\\"pc_recharge\\\":{\\\"headerName\\\":\\\"充钻石\\\",\\\"userPanelName\\\":\\\"钻石充值\\\",\\\"name\\\":\\\"钻石\\\",\\\"shortName\\\":\\\"钻\\\",\\\"iconPath\\\":\\\"https://lf6-cdn-tos.douyinstatic.com/obj/venus/pc/icon.png\\\",\\\"iconSvg\\\":\\\"https://lf6-cdn-tos.douyinstatic.com/obj/venus/pc/icon.svg\\\",\\\"iconBigPath\\\":\\\"https://lf6-cdn-tos.douyinstatic.com/obj/venus/pc/icon_big.png\\\",\\\"iconBigSvg\\\":\\\"https://lf6-cdn-tos.douyinstatic.com/obj/venus/pc/icon_big.svg\\\",\\\"strokePath\\\":\\\"https://lf6-cdn-tos.douyinstatic.com/obj/venus/pc/stroke.png\\\",\\\"strokeSvg\\\":\\\"https://lf6-cdn-tos.douyinstatic.com/obj/venus/pc/stroke.svg\\\"},\\\"commonSetting\\\":{\\\"showFollowTabPoint\\\":true,\\\"showFeedUserGuide\\\":true,\\\"showFriendTabPoint\\\":true,\\\"clientFilterLiveInRecommend\\\":false},\\\"carnival_config\\\":{\\\"isOpenCarnival\\\":false},\\\"vs_entrance\\\":{\\\"enable\\\":true},\\\"download_info\\\":{\\\"apk\\\":\\\"https://lf3-cdn-tos.bytegoofy.com/obj/douyin-pc-client/7044145585217083655/releases/11509980/3.4.0/win32-ia32/douyin-v3.4.0-win32-ia32-douyin.exe\\\",\\\"apkExp1\\\":\\\"https://lf3-cdn-tos.bytegoofy.com/obj/douyin-pc-client/7044145585217083655/releases/11509980/3.4.0/win32-ia32/douyin-v3.4.0-win32-ia32-douyinDownload1.exe\\\",\\\"apkDownloader\\\":\\\"https://lf3-cdn-tos.bytegoofy.com/obj/douyin-pc-client/7044145585217083655/releases/11509980/3.4.0/win32-ia32/douyin-downloader-v3.4.0-win32-ia32-douyin.exe\\\",\\\"apkDownloaderExp1\\\":\\\"https://lf3-cdn-tos.bytegoofy.com/obj/douyin-pc-client/7044145585217083655/releases/11509980/3.4.0/win32-ia32/douyin-downloader-v3.4.0-win32-ia32-douyinDownload1.exe\\\",\\\"limit\\\":\\\"windows 7及以上\\\",\\\"time\\\":\\\"2024-1-26\\\",\\\"version\\\":\\\"3.4.0\\\",\\\"video\\\":\\\"https://lf3-static.bytednsdoc.com/obj/eden-cn/ild_jw_upfbvk_lm/ljhwZthlaukjlkulzlp/download/douyin_pc_client.mp4\\\",\\\"macApk\\\":\\\"https://lf3-cdn-tos.bytegoofy.com/obj/douyin-pc-client/7044145585217083655/releases/11509980/3.4.0/darwin-universal/douyin-v3.4.0-darwin-universal.dmg\\\",\\\"macLimit\\\":\\\"macOS系统\\\",\\\"macTime\\\":\\\"2024-1-26\\\",\\\"macVersion\\\":\\\"3.4.0\\\"},\\\"special_show_follower_count_uid_list\\\":[\\\"58544496104\\\",\\\"562575903556992\\\",\\\"97952757558\\\",\\\"84990209480\\\",\\\"6556303280\\\",\\\"927583046739879\\\",\\\"70258503077\\\",\\\"58078054954\\\",\\\"6796248446\\\",\\\"68310389333\\\",\\\"71912868448\\\"],\\\"phone_resume_config\\\":{\\\"enable\\\":true},\\\"live_push\\\":[],\\\"vs_spring_entry\\\":{\\\"showType\\\":1,\\\"location\\\":1,\\\"timeInterval\\\":[{\\\"startTime\\\":1695967080000,\\\"endTime\\\":1695978000000},{\\\"startTime\\\":1695982980000,\\\"endTime\\\":1695996000000},{\\\"startTime\\\":1696053480000,\\\"endTime\\\":1696064400000},{\\\"startTime\\\":1696069380000,\\\"endTime\\\":1696082400000},{\\\"startTime\\\":1696152480000,\\\"endTime\\\":1696167000000}],\\\"webRid\\\":\\\"59288147052\\\",\\\"imageLight\\\":\\\"https://p-pc-weboff.byteimg.com/tos-cn-i-9r5gewecjs/image_normal3_jnh.png\\\",\\\"imageDark\\\":\\\"https://p-pc-weboff.byteimg.com/tos-cn-i-9r5gewecjs/image_normal3_jnh.png\\\",\\\"imageLightHover\\\":\\\"https://p-pc-weboff.byteimg.com/tos-cn-i-9r5gewecjs/image_hover3_jnh.png\\\",\\\"imageDarkHover\\\":\\\"https://p-pc-weboff.byteimg.com/tos-cn-i-9r5gewecjs/image_hover3_jnh.png\\\",\\\"imageLightActive\\\":\\\"https://p-pc-weboff.byteimg.com/tos-cn-i-9r5gewecjs/imageLightActive2.png\\\",\\\"imageDarkActive\\\":\\\"https://p-pc-weboff.byteimg.com/tos-cn-i-9r5gewecjs/imageDarkActive2.png\\\",\\\"imageLightActiveHover\\\":\\\"https://p-pc-weboff.byteimg.com/tos-cn-i-9r5gewecjs/imageLightActiveHover2.png\\\",\\\"imageDarkActiveHover\\\":\\\"https://p-pc-weboff.byteimg.com/tos-cn-i-9r5gewecjs/imageDarkActiveHover2.png\\\",\\\"miniImageLight\\\":\\\"https://p-pc-weboff.byteimg.com/tos-cn-i-9r5gewecjs/miniImageLight_jnh.png\\\",\\\"miniImageDark\\\":\\\"https://p-pc-weboff.byteimg.com/tos-cn-i-9r5gewecjs/miniImageLight/miniImageDark_jnh.png\\\",\\\"miniImageLightHover\\\":\\\"https://p-pc-weboff.byteimg.com/tos-cn-i-9r5gewecjs/miniImageLightHover_jnh.png\\\",\\\"miniImageDarkHover\\\":\\\"https://p-pc-weboff.byteimg.com/tos-cn-i-9r5gewecjs/miniImageLight/miniImageDarkHover_jnh.png\\\",\\\"miniImageLightActive\\\":\\\"https://p-pc-weboff.byteimg.com/tos-cn-i-9r5gewecjs/miniImageLightActive.png\\\",\\\"miniImageDarkActive\\\":\\\"https://p-pc-weboff.byteimg.com/tos-cn-i-9r5gewecjs/miniImageDarkActive.png\\\",\\\"miniImageLightActiveHover\\\":\\\"https://p-pc-weboff.byteimg.com/tos-cn-i-9r5gewecjs/miniImageDarkActiveHover.png\\\",\\\"miniImageDarkActiveHover\\\":\\\"https://p-pc-weboff.byteimg.com/tos-cn-i-9r5gewecjs/miniImageDarkActiveHover.png\\\",\\\"animationLight\\\":\\\"https://p-pc-weboff.byteimg.com/tos-cn-i-9r5gewecjs/animationLight1.png\\\",\\\"animationDark\\\":\\\"https://p-pc-weboff.byteimg.com/tos-cn-i-9r5gewecjs/animationDark.png\\\",\\\"miniAnimationLight\\\":\\\"https://p-pc-weboff.byteimg.com/tos-cn-i-9r5gewecjs/miniAnimationLight.png\\\",\\\"miniAnimationDark\\\":\\\"https://p-pc-weboff.byteimg.com/tos-cn-i-9r5gewecjs/miniAnimationDark.png\\\",\\\"miniTextLight\\\":\\\"https://p-pc-weboff.byteimg.com/tos-cn-i-9r5gewecjs/miniTextLight.png\\\",\\\"miniTextDark\\\":\\\"https://p-pc-weboff.byteimg.com/tos-cn-i-9r5gewecjs/miniTextDark.png\\\",\\\"miniScreenIcon\\\":\\\"https://p3-pc-weboff.byteimg.com/tos-cn-i-9r5gewecjs/fifa/header-icon.png\\\",\\\"animationLightV2\\\":\\\"https://p-pc-weboff.byteimg.com/tos-cn-i-9r5gewecjs/animationLightV2.png\\\",\\\"animationDarkV2\\\":\\\"https://p-pc-weboff.byteimg.com/tos-cn-i-9r5gewecjs/animationDarkV2.png\\\"}},\\\"search\\\":{\\\"searchPanelGrayscale\\\":\\\"$undefined\\\"}},\\\"initialState\\\":{\\\"isLiveModal\\\":false,\\\"appStore\\\":{\\\"store\\\":null,\\\"needInital\\\":false,\\\"linkMicHeartConfig\\\":{},\\\"isOpenLongTask\\\":true},\\\"userStore\\\":{\\\"store\\\":null,\\\"userInfo\\\":{},\\\"headerUserInfo\\\":{\\\"isSpider\\\":false,\\\"info\\\":{},\\\"statusCode\\\":0},\\\"odin\\\":{\\\"user_id\\\":\\\"926262699765003\\\",\\\"user_type\\\":12,\\\"user_is_auth\\\":0,\\\"user_is_login\\\":0,\\\"user_unique_id\\\":\\\"7342402583912891913\\\"},\\\"userHandlerPause\\\":false},\\\"homeStore\\\":{\\\"store\\\":null,\\\"selectedRoom\\\":null},\\\"roomStore\\\":{\\\"store\\\":null,\\\"roomInfo\\\":{},\\\"emojiList\\\":[],\\\"emojiReflex\\\":{},\\\"liveStatus\\\":\\\"normal\\\",\\\"likeStatus\\\":{},\\\"followInfo\\\":{},\\\"isUgcLive\\\":false,\\\"isGameHiddle\\\":false,\\\"pausePop\\\":false,\\\"hasAppointment\\\":false,\\\"enableProgramme\\\":false,\\\"abProgramme\\\":false,\\\"forceEnableH265\\\":false,\\\"liveDetailPlayerHasPlay\\\":false,\\\"notSupportReason\\\":\\\"unknown\\\",\\\"longtouchList\\\":[],\\\"longtouchShowTcc\\\":false,\\\"usePageUrlBannerId\\\":[],\\\"isAsianGames\\\":false,\\\"relevantRooms\\\":[],\\\"danmakuQueue\\\":[],\\\"danmakuQueueLength\\\":0,\\\"danmakuSwitch\\\":true},\\\"linkmicStore\\\":{\\\"store\\\":null,\\\"applySource\\\":\\\"\\\",\\\"linkMicConfig\\\":{\\\"config\\\":{}},\\\"imLinkMicSeats\\\":{\\\"0\\\":{\\\"idx\\\":0},\\\"1\\\":{\\\"idx\\\":1},\\\"2\\\":{\\\"idx\\\":2},\\\"3\\\":{\\\"idx\\\":3},\\\"4\\\":{\\\"idx\\\":4},\\\"5\\\":{\\\"idx\\\":5},\\\"6\\\":{\\\"idx\\\":6},\\\"7\\\":{\\\"idx\\\":7},\\\"8\\\":{\\\"idx\\\":8}},\\\"seiLinkMicSeats\\\":{\\\"0\\\":{\\\"idx\\\":0},\\\"1\\\":{\\\"idx\\\":1},\\\"2\\\":{\\\"idx\\\":2},\\\"3\\\":{\\\"idx\\\":3},\\\"4\\\":{\\\"idx\\\":4},\\\"5\\\":{\\\"idx\\\":5},\\\"6\\\":{\\\"idx\\\":6},\\\"7\\\":{\\\"idx\\\":7},\\\"8\\\":{\\\"idx\\\":8}},\\\"playModes\\\":[],\\\"orderSingSortRule\\\":1,\\\"choosePeopleArr\\\":[],\\\"choosePeopleAll\\\":false,\\\"choosePanelVisible\\\":false,\\\"choosePeopleShowTCC\\\":false,\\\"enlargeSeatApplyUid\\\":null,\\\"functionType2\\\":\\\"\\\",\\\"rankListShow\\\":false,\\\"showHonorStation\\\":false,\\\"selectedLinkMicDevices\\\":{},\\\"linkStatus\\\":0,\\\"devicesModalMode\\\":3,\\\"audioPermission\\\":0,\\\"videoPermission\\\":0,\\\"isFansGuide\\\":false,\\\"isCandidate\\\":false,\\\"isPlayModeNotSupport\\\":false,\\\"floatModal\\\":0,\\\"dressListInfo\\\":{},\\\"showLinkMicApplyModal\\\":false,\\\"devicesModalCountDown\\\":0,\\\"inviteFromUserId\\\":\\\"\\\",\\\"linkmicModalSettings\\\":{\\\"show\\\":false},\\\"guestBattleSettingsShow\\\":false,\\\"dressMvpInfo\\\":{},\\\"dressListAll\\\":[],\\\"layoutBackgroundImg\\\":\\\"\\\",\\\"isAgcAnchor\\\":false,\\\"choosePeopleList\\\":{},\\\"faceRecognitionShow\\\":false},\\\"giftStore\\\":{\\\"store\\\":null,\\\"diyPluginIdWhiteList\\\":[],\\\"diyCardNameWhiteList\\\":[],\\\"hoverGiftWhiteList\\\":[],\\\"giftBuffIdWhiteList\\\":[],\\\"giftMessages\\\":[],\\\"giftPages\\\":[],\\\"effectList\\\":[],\\\"balance\\\":0,\\\"effectSwitchStatus\\\":true,\\\"giftSwitchStatus\\\":true,\\\"giftAuthStatus\\\":false,\\\"giftTccStatus\\\":false,\\\"giftPanelSwitchStatus\\\":0,\\\"hasGiftBar\\\":false,\\\"giftPanelShowFrom\\\":\\\"\\\",\\\"giftExtraInfo\\\":{},\\\"hasGiftActionTab\\\":false,\\\"isGiftFullEffect\\\":false},\\\"propStore\\\":{\\\"store\\\":null,\\\"propList\\\":[]},\\\"pkStore\\\":{\\\"store\\\":null,\\\"pkAppData\\\":{},\\\"pkTccStatus\\\":false},\\\"audienceStore\\\":{\\\"store\\\":null,\\\"audienceSwitchStatus\\\":true,\\\"audienceAuthStatus\\\":false,\\\"audienceTccStatus\\\":false},\\\"abStore\\\":{\\\"store\\\":null,\\\"layoutData\\\":null,\\\"liveModalDynamicBg\\\":false,\\\"liveModalWeakEntrance\\\":false,\\\"liveModalWithoutAction\\\":false,\\\"rechargeAb\\\":0,\\\"rechargeAutoNext\\\":false},\\\"fansClubStore\\\":{\\\"store\\\":null,\\\"fansClubData\\\":{},\\\"fansClubTccStatus\\\":false,\\\"fansClubAuthStatus\\\":false,\\\"fansClubShowStatus\\\":{\\\"isShow\\\":false,\\\"source\\\":\\\"\\\"},\\\"fansClubJoinStatus\\\":false,\\\"fansClubAutoLightStatus\\\":false,\\\"fansClubButtonShowStatus\\\":false,\\\"hasFetchDataStatus\\\":false,\\\"fansClubEntranceBounceStatus\\\":false},\\\"layoutStore\\\":{\\\"store\\\":null,\\\"disableUnLoginFilter\\\":false,\\\"rawThemeConfig\\\":{},\\\"pathname\\\":\\\"/\\\",\\\"isClient\\\":false,\\\"navigationSelected\\\":\\\"live\\\",\\\"hidehead\\\":false,\\\"hardNavigation\\\":0,\\\"hardCategoryTab\\\":0,\\\"hardHeader\\\":0,\\\"hardFooter\\\":0,\\\"hardSideBar\\\":0,\\\"hardErrorStyle\\\":0,\\\"transparentHeader\\\":false,\\\"specialBanner\\\":false,\\\"hasRelevantRoom\\\":true,\\\"immersive\\\":false,\\\"playerMargin\\\":0},\\\"streamStore\\\":{\\\"store\\\":null,\\\"leadingData\\\":{},\\\"streamData\\\":{},\\\"leadingShow\\\":false,\\\"renderTime\\\":0,\\\"singleControlTime\\\":0,\\\"singleControlMaxShowTime\\\":0,\\\"isUseVVC\\\":false},\\\"cameraStore\\\":{\\\"store\\\":null,\\\"cameraInfo\\\":{},\\\"mainCameraInfo\\\":{},\\\"cameraInfoList\\\":[]},\\\"exhibitionStore\\\":{\\\"store\\\":null,\\\"isFirstLoad\\\":true,\\\"exhibitionExtraInfo\\\":{},\\\"isShowExhibition\\\":false},\\\"hourRankListStore\\\":{\\\"store\\\":null,\\\"isFirstLoad\\\":true,\\\"isShowHourRankList\\\":false,\\\"openType\\\":0},\\\"feedStore\\\":{\\\"store\\\":null,\\\"isActive\\\":true,\\\"hasPre\\\":false,\\\"hasNext\\\":false},\\\"singletonStore\\\":{\\\"store\\\":null,\\\"message\\\":null,\\\"container\\\":null,\\\"playerHandler\\\":null,\\\"audioPower\\\":null,\\\"player\\\":null},\\\"wishListStore\\\":{\\\"store\\\":null,\\\"isShowWishList\\\":false},\\\"hybridStore\\\":{\\\"store\\\":null,\\\"containerList\\\":[],\\\"longtouchList\\\":[],\\\"commonList\\\":[]},\\\"eventStore\\\":{\\\"store\\\":null,\\\"redPacketEvent\\\":null,\\\"slardarEvent\\\":null,\\\"chatEvent\\\":null,\\\"basicEvent\\\":null,\\\"ecomEvent\\\":null,\\\"fansclubEvent\\\":null,\\\"giftBaseEvent\\\":null,\\\"giftEvent\\\":null,\\\"linkmicBaseEvent\\\":null,\\\"linkmicEvent\\\":null,\\\"loginEvent\\\":null,\\\"pkEvent\\\":null,\\\"playerEvent\\\":null,\\\"ranklistEvent\\\":null,\\\"reportEvent\\\":null,\\\"tabEvent\\\":null,\\\"userEvent\\\":null,\\\"vsEvent\\\":null},\\\"paidLiveStore\\\":{\\\"store\\\":null,\\\"paidLiveData\\\":null,\\\"retType\\\":2,\\\"viewType\\\":0,\\\"paidLiveAuth\\\":{\\\"MultiCamera\\\":1,\\\"FansClub\\\":1,\\\"Link\\\":1,\\\"Chat\\\":1,\\\"DANMU\\\":1,\\\"SendGift\\\":1,\\\"FullScreen\\\":1,\\\"PIP\\\":1}},\\\"lotteryStore\\\":{\\\"store\\\":null,\\\"landingPageType\\\":\\\"userMain\\\",\\\"participatedLotterys\\\":[],\\\"currentLottery\\\":{},\\\"leftTimeFromShortTouch\\\":0,\\\"candidateState\\\":0,\\\"isFirstLoad\\\":true},\\\"rechargeStore\\\":{\\\"store\\\":null,\\\"rechargeAuthStatus\\\":false,\\\"showGiftRechargeContainer\\\":false},\\\"ecomStore\\\":{\\\"store\\\":null,\\\"showAgreement\\\":false,\\\"cartVisible\\\":false},\\\"activityIndicatorStore\\\":{\\\"store\\\":null,\\\"carbonInstance\\\":null,\\\"JSBInstance\\\":null,\\\"bannerList\\\":[],\\\"currentLandPage\\\":[]},\\\"redpacketStore\\\":{\\\"store\\\":null,\\\"isFirstLoad\\\":true},\\\"shareStore\\\":{\\\"store\\\":null,\\\"showShare\\\":false,\\\"canShowShare\\\":false,\\\"shareFrom\\\":\\\"lottery\\\"}},\\\"tce_cluster\\\":\\\"default\\\",\\\"logId\\\":\\\"20240304151212BB1058491C4DCA38A49F\\\",\\\"isClient\\\":false,\\\"clientVersion\\\":\\\"\\\",\\\"XTTENV\\\":\\\"\\\",\\\"theme\\\":\\\"$undefined\\\",\\\"children\\\":[\\\"$\\\",\\\"$L3\\\",null,{\\\"children\\\":[[\\\"$\\\",\\\"$L4\\\",null,{\\\"title\\\":\\\"抖音直播电脑版_抖音直播网页版入口_抖音直播\\\",\\\"description\\\":\\\"抖音直播网页版 - 抖音已经支持在电脑上看直播啦！抖音直播PC版已支持热门网络游戏、棋牌游戏、单机游戏的直播内容。抖音-记录美好生活的视频平台\\\",\\\"keywords\\\":\\\"抖音直播,抖音直播电脑版,抖音直播PC版,抖音直播网页版,抖音直播入口,抖音直播网页版入口,抖音\\\"}],\\\"$L5\\\",[\\\"$\\\",\\\"main\\\",null,{\\\"className\\\":\\\"Pq2oR8Km\\\",\\\"children\\\":[[\\\"$\\\",\\\"$L6\\\",null,{\\\"pathname\\\":\\\"/\\\",\\\"os\\\":{\\\"os\\\":\\\"\\\",\\\"version\\\":\\\"\\\",\\\"isMas\\\":false},\\\"isClient\\\":false,\\\"pageGrayscaleConf\\\":{\\\"mode\\\":\\\"\\\",\\\"blockList\\\":{\\\"all\\\":[],\\\"part\\\":[\\\"/fifaworldcup\\\"]}}}],[\\\"$\\\",\\\"$7\\\",null,{\\\"fallback\\\":[\\\"$\\\",\\\"div\\\",null,{\\\"className\\\":\\\"fnAisSjO kHKO2l63\\\"}],\\\"children\\\":[\\\"$L8\\\",\\\"$undefined\\\"]}],[\\\"$\\\",\\\"$L9\\\",null,{\\\"domain\\\":\\\"$undefined\\\",\\\"pathname\\\":\\\"/\\\",\\\"isDetail\\\":false,\\\"children\\\":[false,false,\\\"$undefined\\\",[\\\"$\\\",\\\"$La\\\",null,{\\\"children\\\":[\\\"$\\\",\\\"$7\\\",null,{\\\"fallback\\\":[\\\"$\\\",\\\"$Lb\\\",null,{}],\\\"children\\\":[\\\"$\\\",\\\"$Lc\\\",null,{\\\"outlet\\\":null,\\\"matches\\\":[],\\\"matchPatterns\\\":[\\\"/\\\"],\\\"children\\\":\\\"$Ld\\\"}]}]}]]}]]}],[\\\"$\\\",\\\"div\\\",null,{\\\"id\\\":\\\"portal\\\",\\\"className\\\":\\\"TKELsWWh\\\"}],[\\\"$\\\",\\\"$Le\\\",null,{\\\"domain\\\":\\\"$undefined\\\"}],[\\\"$\\\",\\\"$Lf\\\",null,{\\\"websocketKey\\\":[{\\\"param_name\\\":\\\"live_id\\\",\\\"param_type\\\":\\\"string\\\"},{\\\"param_name\\\":\\\"aid\\\",\\\"param_type\\\":\\\"string\\\"},{\\\"param_name\\\":\\\"version_code\\\",\\\"param_type\\\":\\\"string\\\"},{\\\"param_name\\\":\\\"webcast_sdk_version\\\",\\\"param_type\\\":\\\"string\\\"},{\\\"param_name\\\":\\\"room_id\\\",\\\"param_type\\\":\\\"string\\\"},{\\\"param_name\\\":\\\"sub_room_id\\\",\\\"param_type\\\":\\\"string\\\"},{\\\"param_name\\\":\\\"sub_channel_id\\\",\\\"param_type\\\":\\\"string\\\"},{\\\"param_name\\\":\\\"did_rule\\\",\\\"param_type\\\":\\\"string\\\"},{\\\"param_name\\\":\\\"user_unique_id\\\",\\\"param_type\\\":\\\"string\\\"},{\\\"param_name\\\":\\\"device_platform\\\",\\\"param_type\\\":\\\"string\\\"},{\\\"param_name\\\":\\\"device_type\\\",\\\"param_type\\\":\\\"string\\\"},{\\\"param_name\\\":\\\"ac\\\",\\\"param_type\\\":\\\"string\\\"},{\\\"param_name\\\":\\\"identity\\\",\\\"param_type\\\":\\\"string\\\"}]}],[\\\"$\\\",\\\"$7\\\",null,{\\\"children\\\":\\\"$L10\\\"}]]}]}]}]\\n\"])</script>"
      ]
     },
     "execution_count": 11,
     "metadata": {},
     "output_type": "execute_result"
    }
   ],
   "source": [
    "from bs4 import BeautifulSoup\n",
    "soup = BeautifulSoup(req.text, 'lxml')\n",
    "index = 0\n",
    "soup.find_all('script')[44]"
   ]
  },
  {
   "cell_type": "code",
   "execution_count": null,
   "metadata": {
    "pycharm": {
     "name": "#%%\n"
    }
   },
   "outputs": [],
   "source": []
  }
 ],
 "metadata": {
  "kernelspec": {
   "display_name": "Python 3 (ipykernel)",
   "language": "python",
   "name": "python3"
  },
  "language_info": {
   "codemirror_mode": {
    "name": "ipython",
    "version": 3
   },
   "file_extension": ".py",
   "mimetype": "text/x-python",
   "name": "python",
   "nbconvert_exporter": "python",
   "pygments_lexer": "ipython3",
   "version": "3.10.0"
  }
 },
 "nbformat": 4,
 "nbformat_minor": 4
}
